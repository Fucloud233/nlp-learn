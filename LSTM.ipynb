{
 "cells": [
  {
   "cell_type": "markdown",
   "id": "0edc10fa",
   "metadata": {},
   "source": [
    "# 读取数据"
   ]
  },
  {
   "cell_type": "code",
   "execution_count": 24,
   "id": "276df009",
   "metadata": {},
   "outputs": [],
   "source": [
    "import pandas as pd\n",
    "import numpy as np\n",
    "import jieba\n",
    "\n",
    "def load_data():\n",
    "    # 通过pandas来处理csv文件中的数据\n",
    "    neg = pd.read_csv('data/neg.csv', header=None, index_col=None)\n",
    "    # 设置error_bad_lines=Flase 那么将丢弃读取错误的行\n",
    "    pos = pd.read_csv('data/pos.csv', header=None, index_col=None, error_bad_lines=False)\n",
    "    neu = pd.read_csv('data/neutral.csv', header=None, index_col=None)\n",
    "    \n",
    "    # 将上面3组数据合并在1个数组中\n",
    "    # combined长度=上述三者之和\n",
    "    combined = np.concatenate((pos[0], neu[0], neg[0]))\n",
    "    # 生成数据集对应的onthot编码\n",
    "    y = np.concatenate((np.ones(len(pos), dtype=int), \n",
    "                       np.zeros(len(neu), dtype=int), \n",
    "                       -1*np.ones(len(neg), dtype=int)))\n",
    "    return combined, y"
   ]
  },
  {
   "cell_type": "code",
   "execution_count": 25,
   "id": "dbd0cede",
   "metadata": {},
   "outputs": [],
   "source": [
    "# 通过\n",
    "def tokenizer(text):\n",
    "    text = [jieba.lcut(document.replace('\\n', '')) for document in text]\n",
    "    return text"
   ]
  },
  {
   "cell_type": "code",
   "execution_count": 26,
   "id": "980ac3bf",
   "metadata": {},
   "outputs": [
    {
     "name": "stderr",
     "output_type": "stream",
     "text": [
      "C:\\Users\\Fucloud\\AppData\\Local\\Temp\\ipykernel_60644\\3591654724.py:9: FutureWarning: The error_bad_lines argument has been deprecated and will be removed in a future version. Use on_bad_lines in the future.\n",
      "\n",
      "\n",
      "  pos = pd.read_csv('data/pos.csv', header=None, index_col=None, error_bad_lines=False)\n",
      "Skipping line 2607: expected 1 fields, saw 9\n",
      "Skipping line 3143: expected 1 fields, saw 2\n",
      "Skipping line 3173: expected 1 fields, saw 8\n",
      "\n",
      "Building prefix dict from the default dictionary ...\n",
      "Loading model from cache C:\\Users\\Fucloud\\AppData\\Local\\Temp\\jieba.cache\n",
      "Loading model cost 0.769 seconds.\n",
      "Prefix dict has been built successfully.\n"
     ]
    },
    {
     "name": "stdout",
     "output_type": "stream",
     "text": [
      "['做', '父母', '一定', '要', '有', '刘墉', '这样', '的', '心态', '，', '不断', '地', '学习', '，', '不断', '地', '进步', '，', '不断', '地', '给', '自己', '补充', '新鲜血液', '，', '让', '自己', '保持', '一颗', '年轻', '的', '心', '。', '我', '想', '，', '这', '是', '他', '能', '很', '好', '的', '和', '孩子', '沟通', '的', '一个', '重要', '因素', '。', '读', '刘墉', '的', '文章', '，', '总能', '让', '我', '看到', '一个', '快乐', '的', '平易近人', '的', '父亲', '，', '他', '始终', '站', '在', '和', '孩子', '同样', '的', '高度', '，', '给', '孩子', '创造', '着', '一个', '充满', '爱', '和', '自由', '的', '生活', '环境', '。', '很', '喜欢', '刘墉', '在', '字里行间', '流露出', '的', '做', '父母', '的', '那种', '小', '狡黠', '，', '让', '人', '总是', '忍俊不禁', '，', '父母', '和', '子女', '之间', '有时候', '也', '是', '一种', '战斗', '，', '武力', '争斗', '过于', '低级', '了', '，', '智力', '较量', '才', '更', '有', '趣味', '。', '所以', '，', '做', '父母', '的', '得', '加把劲', '了', '，', '老', '思想', '老', '观念', '注定', '会', '一败涂地', '，', '生命不息', '，', '学习', '不止', '。', '家庭教育', '，', '真的', '是', '乐在其中', '。']\n"
     ]
    }
   ],
   "source": [
    "# combined, y = load_data()\n",
    "# text = tokenizer(combined)\n",
    "\n",
    "# print(text[0])"
   ]
  },
  {
   "cell_type": "code",
   "execution_count": null,
   "id": "fbc1f062",
   "metadata": {},
   "outputs": [],
   "source": [
    "# 创建字典\n",
    "\n",
    "def create_dictionaries(model=None, combined=None):\n",
    "    if (model==None) or (combined==None):\n",
    "        print(\"没有提供数据\")\n",
    "        return\n",
    "    \n",
    "    \n",
    "    \n",
    "    "
   ]
  }
 ],
 "metadata": {
  "kernelspec": {
   "display_name": "Python 3 (ipykernel)",
   "language": "python",
   "name": "python3"
  },
  "language_info": {
   "codemirror_mode": {
    "name": "ipython",
    "version": 3
   },
   "file_extension": ".py",
   "mimetype": "text/x-python",
   "name": "python",
   "nbconvert_exporter": "python",
   "pygments_lexer": "ipython3",
   "version": "3.9.2"
  }
 },
 "nbformat": 4,
 "nbformat_minor": 5
}
