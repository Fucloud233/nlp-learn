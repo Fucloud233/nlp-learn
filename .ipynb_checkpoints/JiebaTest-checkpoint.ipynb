{
 "cells": [
  {
   "cell_type": "code",
   "execution_count": 23,
   "id": "77ceed6f",
   "metadata": {},
   "outputs": [
    {
     "name": "stdout",
     "output_type": "stream",
     "text": [
      "全模式: 我/来/北京/清华/清华大学/华大/大学\n",
      "默认模式 我来/北京/清华大学\n",
      "我来/北京/清华大学\n",
      "乒乓球/拍卖/完/了\n",
      " /中国/科学技术/学院\n"
     ]
    }
   ],
   "source": [
    "import jieba\n",
    "\n",
    "strs = [\"我来北京清华大学\", \"乒乓球拍卖完了\", \" 中国科学技术学院\"]\n",
    "\n",
    "# jieba.cut 返回的是一个可以迭代的generator\n",
    "# 全模式 生成所有可能的分词\n",
    "seg_list = jieba.cut(strs[0], cut_all=True)\n",
    "print(\"全模式:\", '/'.join(seg_list))\n",
    "\n",
    "# 默认是精确模式\n",
    "seg_list = jieba.cut(strs[0])\n",
    "print(\"默认模式\", '/'.join(seg_list))\n",
    "\n",
    "for str in strs:\n",
    "    seg_list = jieba.cut(str)\n",
    "    print('/'.join(seg_list))\n"
   ]
  },
  {
   "cell_type": "code",
   "execution_count": null,
   "id": "b0c29d11",
   "metadata": {},
   "outputs": [],
   "source": []
  },
  {
   "cell_type": "code",
   "execution_count": null,
   "id": "241f9eda",
   "metadata": {},
   "outputs": [],
   "source": []
  }
 ],
 "metadata": {
  "kernelspec": {
   "display_name": "Python 3 (ipykernel)",
   "language": "python",
   "name": "python3"
  },
  "language_info": {
   "codemirror_mode": {
    "name": "ipython",
    "version": 3
   },
   "file_extension": ".py",
   "mimetype": "text/x-python",
   "name": "python",
   "nbconvert_exporter": "python",
   "pygments_lexer": "ipython3",
   "version": "3.9.2"
  }
 },
 "nbformat": 4,
 "nbformat_minor": 5
}
