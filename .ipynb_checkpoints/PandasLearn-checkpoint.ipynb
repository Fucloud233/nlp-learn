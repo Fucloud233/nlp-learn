{
 "cells": [
  {
   "cell_type": "markdown",
   "id": "31dcdff7",
   "metadata": {},
   "source": [
    "# 10min 学会 Pandas\n",
    "> 引用链接：https://pandas.pydata.org/docs/user_guide/10min.html"
   ]
  },
  {
   "cell_type": "markdown",
   "id": "262097f1",
   "metadata": {},
   "source": [
    "## 引入环境"
   ]
  },
  {
   "cell_type": "code",
   "execution_count": 2,
   "id": "6a7865a8",
   "metadata": {},
   "outputs": [],
   "source": [
    "import numpy as np\n",
    "import pandas as pd"
   ]
  },
  {
   "cell_type": "markdown",
   "id": "6b0cc6f5",
   "metadata": {},
   "source": [
    "## 创建对象"
   ]
  },
  {
   "cell_type": "code",
   "execution_count": 6,
   "id": "683b8a01",
   "metadata": {},
   "outputs": [
    {
     "name": "stdout",
     "output_type": "stream",
     "text": [
      "0    1.0\n",
      "1    3.0\n",
      "2    5.0\n",
      "3    NaN\n",
      "4    6.0\n",
      "5    8.0\n",
      "dtype: float64\n"
     ]
    }
   ],
   "source": [
    "s = pd.Series([1, 3, 5, np.nan, 6, 8])\n",
    "print(s)"
   ]
  },
  {
   "cell_type": "markdown",
   "id": "71f9206e",
   "metadata": {},
   "source": [
    "通过date_range()和NumPy array来创建一个DataFrame"
   ]
  },
  {
   "cell_type": "code",
   "execution_count": 7,
   "id": "6380dc89",
   "metadata": {},
   "outputs": [
    {
     "name": "stdout",
     "output_type": "stream",
     "text": [
      "DatetimeIndex(['2013-01-01', '2013-01-02', '2013-01-03', '2013-01-04',\n",
      "               '2013-01-05', '2013-01-06'],\n",
      "              dtype='datetime64[ns]', freq='D')\n"
     ]
    }
   ],
   "source": [
    "# 创建一个 DataFrame的index组\n",
    "dates = pd.date_range(\"20130101\", periods=6)\n",
    "print(dates)"
   ]
  },
  {
   "cell_type": "code",
   "execution_count": 10,
   "id": "f323a4a9",
   "metadata": {},
   "outputs": [
    {
     "name": "stdout",
     "output_type": "stream",
     "text": [
      "                   A         B         C         D\n",
      "2013-01-01  1.232556 -0.381929 -0.257304 -0.773841\n",
      "2013-01-02 -0.324246 -1.079822  0.442704 -1.250441\n",
      "2013-01-03  1.357608 -1.628856  0.336763  0.273371\n",
      "2013-01-04  0.581455 -0.313582  0.213744  0.145471\n",
      "2013-01-05  0.370641  1.180874 -0.802192  1.202442\n",
      "2013-01-06 -0.882789 -1.561384  0.130778  1.283252\n"
     ]
    }
   ],
   "source": [
    "# index 控制行标签 columns 控制列标签\n",
    "df = pd.DataFrame(np.random.randn(6, 4), index=dates, columns=list('ABCD'))\n",
    "print(df)"
   ]
  },
  {
   "cell_type": "markdown",
   "id": "b222bd19",
   "metadata": {},
   "source": [
    "通过对象字典来创建DataFrame"
   ]
  },
  {
   "cell_type": "code",
   "execution_count": 20,
   "id": "fefe84b4",
   "metadata": {},
   "outputs": [
    {
     "name": "stdout",
     "output_type": "stream",
     "text": [
      "     A          B    C  D      E    F\n",
      "0  1.0 2013-01-02  1.0  3   test  foo\n",
      "1  1.0 2013-01-02  1.0  3  train  foo\n",
      "2  1.0 2013-01-02  1.0  3   test  foo\n",
      "3  1.0 2013-01-02  1.0  3  train  foo\n",
      "A           float64\n",
      "B    datetime64[ns]\n",
      "C           float32\n",
      "D             int32\n",
      "E          category\n",
      "F            object\n",
      "dtype: object\n"
     ]
    }
   ],
   "source": [
    "df2 = pd.DataFrame(\n",
    "    {\n",
    "        # 如果是单独一个值 则会直接填充\n",
    "        \"A\": 1.0,\n",
    "        \"B\": pd.Timestamp(\"20130102\"),\n",
    "        # 如果是一个数组 则会按序填充\n",
    "        \"C\": pd.Series(1, index=list(range(4)), dtype=\"float32\"),\n",
    "        \"D\": np.array([3]*4, dtype=\"int32\"),\n",
    "        \"E\": pd.Categorical([\"test\", \"train\", \"test\", \"train\"]),\n",
    "        \"F\": \"foo\",\n",
    "        \n",
    "    }\n",
    ")\n",
    "\n",
    "print(df2)\n",
    "print(df2.dtypes)"
   ]
  },
  {
   "cell_type": "markdown",
   "id": "7e424883",
   "metadata": {},
   "source": [
    "## 查看数据"
   ]
  },
  {
   "cell_type": "code",
   "execution_count": 26,
   "id": "bfe9a538",
   "metadata": {},
   "outputs": [
    {
     "name": "stdout",
     "output_type": "stream",
     "text": [
      "前2个数据：\n",
      "                   A         B         C         D\n",
      "2013-01-01  1.232556 -0.381929 -0.257304 -0.773841\n",
      "2013-01-02 -0.324246 -1.079822  0.442704 -1.250441\n",
      "后3个数据：\n",
      "                   A         B         C         D\n",
      "2013-01-04  0.581455 -0.313582  0.213744  0.145471\n",
      "2013-01-05  0.370641  1.180874 -0.802192  1.202442\n",
      "2013-01-06 -0.882789 -1.561384  0.130778  1.283252\n"
     ]
    }
   ],
   "source": [
    "print('前2个数据：')\n",
    "print(df.head(2))\n",
    "print('后3个数据：')\n",
    "print(df.tail(3))"
   ]
  },
  {
   "cell_type": "code",
   "execution_count": 28,
   "id": "8d3304a5",
   "metadata": {},
   "outputs": [
    {
     "name": "stdout",
     "output_type": "stream",
     "text": [
      "index: \n",
      "DatetimeIndex(['2013-01-01', '2013-01-02', '2013-01-03', '2013-01-04',\n",
      "               '2013-01-05', '2013-01-06'],\n",
      "              dtype='datetime64[ns]', freq='D')\n",
      "column: \n",
      "Index(['A', 'B', 'C', 'D'], dtype='object')\n"
     ]
    }
   ],
   "source": [
    "# 得到DataFrame的行标签(index) 和 列标签(columns)\n",
    "print('index: ')\n",
    "print(df.index)\n",
    "print('column: ')\n",
    "print(df.columns)"
   ]
  },
  {
   "cell_type": "code",
   "execution_count": 30,
   "id": "52ead94c",
   "metadata": {},
   "outputs": [
    {
     "name": "stdout",
     "output_type": "stream",
     "text": [
      "df(DataFrame): \n",
      "                    A         B         C         D\n",
      "2013-01-01  1.232556 -0.381929 -0.257304 -0.773841\n",
      "2013-01-02 -0.324246 -1.079822  0.442704 -1.250441\n",
      "2013-01-03  1.357608 -1.628856  0.336763  0.273371\n",
      "2013-01-04  0.581455 -0.313582  0.213744  0.145471\n",
      "2013-01-05  0.370641  1.180874 -0.802192  1.202442\n",
      "2013-01-06 -0.882789 -1.561384  0.130778  1.283252\n",
      "df(NumPy): \n",
      " [[ 1.23255574 -0.38192864 -0.25730368 -0.77384121]\n",
      " [-0.3242464  -1.07982175  0.44270441 -1.25044097]\n",
      " [ 1.35760777 -1.62885618  0.33676335  0.2733714 ]\n",
      " [ 0.58145512 -0.31358219  0.21374409  0.14547117]\n",
      " [ 0.37064094  1.18087365 -0.8021915   1.20244166]\n",
      " [-0.88278902 -1.5613839   0.13077791  1.28325245]]\n"
     ]
    }
   ],
   "source": [
    "# 将DataFrame转换成NumPy\n",
    "print('df(DataFrame): \\n', df)\n",
    "print('df(NumPy): \\n', df.to_numpy())"
   ]
  },
  {
   "cell_type": "code",
   "execution_count": null,
   "id": "4090d7f5",
   "metadata": {},
   "outputs": [],
   "source": []
  }
 ],
 "metadata": {
  "kernelspec": {
   "display_name": "Python 3 (ipykernel)",
   "language": "python",
   "name": "python3"
  },
  "language_info": {
   "codemirror_mode": {
    "name": "ipython",
    "version": 3
   },
   "file_extension": ".py",
   "mimetype": "text/x-python",
   "name": "python",
   "nbconvert_exporter": "python",
   "pygments_lexer": "ipython3",
   "version": "3.9.2"
  }
 },
 "nbformat": 4,
 "nbformat_minor": 5
}
