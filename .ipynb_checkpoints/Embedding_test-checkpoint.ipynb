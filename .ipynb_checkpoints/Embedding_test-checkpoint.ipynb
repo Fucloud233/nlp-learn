{
 "cells": [
  {
   "cell_type": "code",
   "execution_count": 41,
   "id": "1392d32c",
   "metadata": {},
   "outputs": [
    {
     "data": {
      "text/plain": [
       "<torch._C.Generator at 0x189d78b44d0>"
      ]
     },
     "execution_count": 41,
     "metadata": {},
     "output_type": "execute_result"
    }
   ],
   "source": [
    "import torch\n",
    "import torch.nn as nn\n",
    "import torch.nn.functional as F\n",
    "import torch.optim as optim\n",
    "\n",
    "torch.manual_seed(1)"
   ]
  },
  {
   "cell_type": "code",
   "execution_count": 42,
   "id": "b101da83",
   "metadata": {},
   "outputs": [
    {
     "name": "stdout",
     "output_type": "stream",
     "text": [
      "tensor([[ 0.6614,  0.2669,  0.0617,  0.6213, -0.4519]],\n",
      "       grad_fn=<EmbeddingBackward0>)\n"
     ]
    }
   ],
   "source": [
    "# 创建一个从word->index的字典\n",
    "word_to_index = {\"hello\":0, \"word\":1}\n",
    "# 神经网络的embedding layer\n",
    "embeds = nn.Embedding(2, 5)\n",
    "\n",
    "# 测试代码 通过上述的embedding layer 查找 hello\n",
    "lookup_tensor = torch.tensor([word_to_index[\"hello\"]], dtype=torch.long)\n",
    "hello_embed = embeds(lookup_tensor)\n",
    "print(hello_embed)"
   ]
  },
  {
   "cell_type": "markdown",
   "id": "835e82f4",
   "metadata": {},
   "source": [
    "## 训练embedding"
   ]
  },
  {
   "cell_type": "code",
   "execution_count": 48,
   "id": "a129df72",
   "metadata": {},
   "outputs": [],
   "source": [
    "# CONTEXT_SIZE 上下文的范围\n",
    "CONTEXT_SIZE = 2\n",
    "EMBEDDING_DIM = 10\n",
    "\n",
    "# 用来测试的句子\n",
    "test_sentence = \"\"\"When forty winters shall besiege thy brow,\n",
    "And dig deep trenches in thy beauty's field,\n",
    "Thy youth's proud livery so gazed on now,\n",
    "Will be a totter'd weed of small worth held:\n",
    "Then being asked, where all thy beauty lies,\n",
    "Where all the treasure of thy lusty days;\n",
    "To say, within thine own deep sunken eyes,\n",
    "Were an all-eating shame, and thriftless praise.\n",
    "How much more praise deserv'd thy beauty's use,\n",
    "If thou couldst answer 'This fair child of mine\n",
    "Shall sum my count, and make my old excuse,'\n",
    "Proving his beauty by succession thine!\n",
    "This were to be new made when thou art old,\n",
    "And see thy blood warm when thou feel'st it cold.\"\"\".split()\n",
    "\n",
    "ngrams = [\n",
    "        (\n",
    "            [test_sentence[i-j-1] for j in range(CONTEXT_SIZE)],\n",
    "            test_sentence[i]\n",
    "        )\n",
    "        for i in range(CONTEXT_SIZE, len(test_sentence))\n",
    "]\n",
    "\n",
    "vocab = set(test_sentence)\n",
    "word_to_index = {word:i for i, word in enumerate(vocab)}"
   ]
  },
  {
   "cell_type": "code",
   "execution_count": 52,
   "id": "1726e9ae",
   "metadata": {},
   "outputs": [],
   "source": [
    "class NGramLanguageModeler(nn.Module):\n",
    "    \n",
    "    def __init__(self, vocab_size, embedding_dim, context_size):\n",
    "        super(NGramLanguageModeler, self).__init__()\n",
    "        self.embeddings = nn.Embedding(vocab_size, embedding_dim)\n",
    "        self.linear1 = nn.Linear(context_size * embedding_dim ,128)\n",
    "        self.linear2 = nn.Linear(128, vocab_size)\n",
    "        \n",
    "    def forward(self, inputs):\n",
    "        embeds = self.embeddings(inputs).view((1, -1))\n",
    "        out = F.relu(self.linear1(embeds))\n",
    "        out = self.linear2(out)\n",
    "        log_probs = F.log_softmax(out, dim=1)\n",
    "        return log_probs"
   ]
  },
  {
   "cell_type": "code",
   "execution_count": 56,
   "id": "20738a4d",
   "metadata": {},
   "outputs": [
    {
     "name": "stdout",
     "output_type": "stream",
     "text": [
      "[518.863508939743, 516.2925062179565, 513.7372212409973, 511.20000648498535, 508.6798663139343, 506.1734561920166, 503.6793773174286, 501.19546461105347, 498.7214524745941, 496.25635981559753]\n",
      "tensor([-0.7747,  0.9928, -1.1207, -1.3053, -1.2436, -0.2167,  0.6656,  0.8612,\n",
      "        -0.0137,  0.1001], grad_fn=<SelectBackward0>)\n"
     ]
    }
   ],
   "source": [
    "losses = []\n",
    "loss_function = nn.NLLLoss()\n",
    "model = NGramLanguageModeler(len(vocab), EMBEDDING_DIM, CONTEXT_SIZE)\n",
    "optimizer = optim.SGD(model.parameters(), lr=0.001)\n",
    "\n",
    "# fit\n",
    "epochs = 10\n",
    "for epoch in range(epochs):\n",
    "    total_loss = 0\n",
    "    for context, target in ngrams:\n",
    "        context_index = torch.tensor([word_to_index[w] for w in context], dtype=torch.long)\n",
    "        \n",
    "        model.zero_grad()\n",
    "        log_probs = model(context_index)\n",
    "        loss = loss_function(log_probs, torch.tensor([word_to_index[target]], dtype=torch.long))\n",
    "        \n",
    "        loss.backward()\n",
    "        optimizer.step()\n",
    "        \n",
    "        total_loss += loss.item()\n",
    "    losses.append(total_loss)\n",
    "\n",
    "# 打印出损失函数的值\n",
    "print(losses)\n",
    "\n",
    "# 打印出来beauty的词向量\n",
    "print(model.embeddings.weight[word_to_index[\"beauty\"]])\n"
   ]
  },
  {
   "cell_type": "code",
   "execution_count": null,
   "id": "1af390fb",
   "metadata": {},
   "outputs": [],
   "source": []
  },
  {
   "cell_type": "code",
   "execution_count": null,
   "id": "048d2932",
   "metadata": {},
   "outputs": [],
   "source": []
  }
 ],
 "metadata": {
  "kernelspec": {
   "display_name": "Python 3 (ipykernel)",
   "language": "python",
   "name": "python3"
  },
  "language_info": {
   "codemirror_mode": {
    "name": "ipython",
    "version": 3
   },
   "file_extension": ".py",
   "mimetype": "text/x-python",
   "name": "python",
   "nbconvert_exporter": "python",
   "pygments_lexer": "ipython3",
   "version": "3.9.2"
  }
 },
 "nbformat": 4,
 "nbformat_minor": 5
}
