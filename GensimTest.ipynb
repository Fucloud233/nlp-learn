{
 "cells": [
  {
   "cell_type": "code",
   "execution_count": 19,
   "id": "a0e9753a",
   "metadata": {},
   "outputs": [
    {
     "name": "stdout",
     "output_type": "stream",
     "text": [
      "{'computer',\n",
      " 'eps',\n",
      " 'graph',\n",
      " 'human',\n",
      " 'interface',\n",
      " 'minors',\n",
      " 'response',\n",
      " 'survey',\n",
      " 'system',\n",
      " 'time',\n",
      " 'trees',\n",
      " 'user'}\n",
      "预处理语料库长度： 12\n"
     ]
    }
   ],
   "source": [
    "import pprint\n",
    "\n",
    "\n",
    "text_corpus = [\n",
    "    \"Human machine interface for lab abc computer applications\",\n",
    "    \"A survey of user opinion of computer system response time\",\n",
    "    \"The EPS user interface management system\",\n",
    "    \"System and human system engineering testing of EPS\",\n",
    "    \"Relation of user perceived response time to error measurement\",\n",
    "    \"The generation of random binary unordered trees\",\n",
    "    \"The intersection graph of paths in trees\",\n",
    "    \"Graph minors IV Widths of trees and well quasi ordering\",\n",
    "    \"Graph minors A survey\",\n",
    "]\n",
    "\n",
    "# 创建一个集合 用来存储一些介词\n",
    "stoplist = set('for a of the and to in'.split(' '))\n",
    "\n",
    "# print(type(stoplist))\n",
    "\n",
    "# .lower() 将文本转换成小写字母 .split() 对document进行分词\n",
    "# 最后通过if来排除常见的介词\n",
    "texts = [\n",
    "    [word for word in document.lower().split() if word not in stoplist]\n",
    "    for document in text_corpus\n",
    "]\n",
    "\n",
    "# 计算单词出现的频率\n",
    "from collections import defaultdict\n",
    "frequency = defaultdict(int)\n",
    "for text in texts:\n",
    "    for token in text:\n",
    "        frequency[token] += 1\n",
    "\n",
    "# 输出不止出现一次的单词\n",
    "# 通过双重循环 将二维数组转换为一维数组\n",
    "processed_corpus = set ([\n",
    "   token for text in texts for token in text if frequency[token]> 1 \n",
    "])\n",
    "\n",
    "pprint.pprint(processed_corpus)\n",
    "print('预处理语料库长度：',len(processed_corpus))"
   ]
  },
  {
   "cell_type": "code",
   "execution_count": 7,
   "id": "02e3e5ce",
   "metadata": {},
   "outputs": [
    {
     "name": "stdout",
     "output_type": "stream",
     "text": [
      "Dictionary<12 unique tokens: ['computer', 'human', 'interface', 'response', 'survey']...>\n"
     ]
    }
   ],
   "source": [
    "from gensim import corpora\n",
    "    \n",
    "dictionary = corpora.Dictionary(processed_corpus)\n",
    "print(dictionary)"
   ]
  },
  {
   "cell_type": "code",
   "execution_count": 20,
   "id": "61f5e44a",
   "metadata": {},
   "outputs": [
    {
     "name": "stdout",
     "output_type": "stream",
     "text": [
      "{'computer': 0,\n",
      " 'eps': 8,\n",
      " 'graph': 10,\n",
      " 'human': 1,\n",
      " 'interface': 2,\n",
      " 'minors': 11,\n",
      " 'response': 3,\n",
      " 'survey': 4,\n",
      " 'system': 5,\n",
      " 'time': 6,\n",
      " 'trees': 9,\n",
      " 'user': 7}\n"
     ]
    }
   ],
   "source": [
    "pprint.pprint(dictionary.token2id)"
   ]
  },
  {
   "cell_type": "code",
   "execution_count": 25,
   "id": "e9e3ea3a",
   "metadata": {},
   "outputs": [
    {
     "name": "stdout",
     "output_type": "stream",
     "text": [
      "[(0, 1), (1, 1)]\n"
     ]
    }
   ],
   "source": [
    "new_doc = \"Human computer interation\"\n",
    "# new_doc = \"Human use computer, Human eps computer\"\n",
    "\n",
    "new_vec = dictionary.doc2bow(new_doc.lower().split())\n",
    "print(new_vec)"
   ]
  },
  {
   "cell_type": "markdown",
   "id": "f6b0f8eb",
   "metadata": {},
   "source": [
    "在每个元组中，第一个数值表示单词的ID，第二个单词表示单词出现的次数"
   ]
  },
  {
   "cell_type": "code",
   "execution_count": 27,
   "id": "ef39b277",
   "metadata": {},
   "outputs": [
    {
     "name": "stdout",
     "output_type": "stream",
     "text": [
      "[[(0, 1), (1, 1), (2, 1)],\n",
      " [(0, 1), (3, 1), (4, 1), (5, 1), (6, 1), (7, 1)],\n",
      " [(2, 1), (5, 1), (7, 1), (8, 1)],\n",
      " [(1, 1), (5, 2), (8, 1)],\n",
      " [(3, 1), (6, 1), (7, 1)],\n",
      " [(9, 1)],\n",
      " [(9, 1), (10, 1)],\n",
      " [(9, 1), (10, 1), (11, 1)],\n",
      " [(4, 1), (10, 1), (11, 1)]]\n"
     ]
    }
   ],
   "source": [
    "bow_corpus = [ dictionary.doc2bow(text.lower().split()) for text in text_corpus]\n",
    "pprint.pprint(bow_corpus)"
   ]
  },
  {
   "cell_type": "markdown",
   "id": "0e9b5dd9",
   "metadata": {},
   "source": [
    "## Model"
   ]
  },
  {
   "cell_type": "code",
   "execution_count": 32,
   "id": "2a9e08f7",
   "metadata": {},
   "outputs": [
    {
     "name": "stdout",
     "output_type": "stream",
     "text": [
      "[(5, 0.5898341626740045), (11, 0.8075244024440723)]\n"
     ]
    }
   ],
   "source": [
    "from gensim import models\n",
    "\n",
    "tfidf = models.TfidfModel(bow_corpus)\n",
    "\n",
    "words = \"system minors\".lower().split()\n",
    "print(tfidf[dictionary.doc2bow(words)])"
   ]
  },
  {
   "cell_type": "markdown",
   "id": "80d80f14",
   "metadata": {},
   "source": [
    "每个元组中，第一个数值表示单词的ID，第二个表示tf-idf权重"
   ]
  },
  {
   "cell_type": "code",
   "execution_count": 36,
   "id": "96db9bf8",
   "metadata": {},
   "outputs": [
    {
     "name": "stdout",
     "output_type": "stream",
     "text": [
      "query_bow\n",
      " [(5, 1)]\n",
      "[(0, 0.0), (1, 0.32448703), (2, 0.41707572), (3, 0.7184812), (4, 0.0), (5, 0.0), (6, 0.0), (7, 0.0), (8, 0.0)]\n"
     ]
    }
   ],
   "source": [
    "from gensim import similarities\n",
    "\n",
    "index = similarities.SparseMatrixSimilarity(tfidf[bow_corpus], num_features=12)\n",
    "\n",
    "query_document = 'system enginnering'.split()\n",
    "query_bow = dictionary.doc2bow(query_document)\n",
    "print('query_bow\\n', query_bow)\n",
    "\n",
    "sims = index[tfidf[query_bow]]\n",
    "print(list(enumerate(sims)))"
   ]
  },
  {
   "cell_type": "code",
   "execution_count": 37,
   "id": "5d031740",
   "metadata": {},
   "outputs": [
    {
     "name": "stdout",
     "output_type": "stream",
     "text": [
      "3 0.7184812\n",
      "2 0.41707572\n",
      "1 0.32448703\n",
      "0 0.0\n",
      "4 0.0\n",
      "5 0.0\n",
      "6 0.0\n",
      "7 0.0\n",
      "8 0.0\n"
     ]
    }
   ],
   "source": [
    "for document_number, score in sorted(enumerate(sims), key=lambda x:x[1], reverse=True):\n",
    "    print(document_number, score)"
   ]
  },
  {
   "cell_type": "code",
   "execution_count": 40,
   "id": "5c054688",
   "metadata": {},
   "outputs": [],
   "source": [
    "import logging\n",
    "\n",
    "logging.basicConfig(format='%(asctime)s : %(levelname)s : %(message)s', level=logging.INFO)"
   ]
  },
  {
   "cell_type": "markdown",
   "id": "dd09dbc5",
   "metadata": {},
   "source": [
    "### From Strings to Vectors"
   ]
  },
  {
   "cell_type": "code",
   "execution_count": 16,
   "id": "062c9255",
   "metadata": {},
   "outputs": [
    {
     "name": "stdout",
     "output_type": "stream",
     "text": [
      "Dictionary<12 unique tokens: ['computer', 'human', 'interface', 'response', 'survey']...>\n"
     ]
    }
   ],
   "source": [
    "import pprint\n",
    "from collections import defaultdict\n",
    "\n",
    "# 导入9句话\n",
    "documents = [\n",
    "    \"Human machine interface for lab abc computer applications\",\n",
    "    \"A survey of user opinion of computer system response time\",\n",
    "    \"The EPS user interface management system\",\n",
    "    \"System and human system engineering testing of EPS\",\n",
    "    \"Relation of user perceived response time to error measurement\",\n",
    "    \"The generation of random binary unordered trees\",\n",
    "    \"The intersection graph of paths in trees\",\n",
    "    \"Graph minors IV Widths of trees and well quasi ordering\",\n",
    "    \"Graph minors A survey\",\n",
    "]\n",
    "\n",
    "stoplist = set('for a of the and to in'.split(' '))\n",
    "texts = [\n",
    "    [word for word in document.lower().split() if word not in stoplist ] \n",
    "    for document in documents\n",
    "]\n",
    "\n",
    "frequency = defaultdict(int)\n",
    "for text in texts:\n",
    "    for word in text:\n",
    "        # 使用方法相当于字典\n",
    "        frequency[word] += 1\n",
    "        \n",
    "# 去除只出现一token次的单词\n",
    "texts = [[token for token in text if frequency[token]>1 ] for text in texts]\n",
    "\n",
    "from gensim import corpora\n",
    "dictionary = corpora.Dictionary(texts)\n",
    "dictionary.save('./tmp/deerwester.dict')\n",
    "print(dictionary)"
   ]
  },
  {
   "cell_type": "code",
   "execution_count": 17,
   "id": "ec8816ad",
   "metadata": {},
   "outputs": [
    {
     "name": "stdout",
     "output_type": "stream",
     "text": [
      "{'computer': 0, 'human': 1, 'interface': 2, 'response': 3, 'survey': 4, 'system': 5, 'time': 6, 'user': 7, 'eps': 8, 'trees': 9, 'graph': 10, 'minors': 11}\n",
      "new_vect:  \n",
      " [(0, 1), (1, 1)]\n"
     ]
    }
   ],
   "source": [
    "# 得到单词的ID\n",
    "print(dictionary.token2id)\n",
    "\n",
    "new_doc = \"human computer iteraction\"\n",
    "new_vect = dictionary.doc2bow(new_doc.lower().split())\n",
    "print('new_vect: ', '\\n', new_vect)"
   ]
  },
  {
   "cell_type": "code",
   "execution_count": 18,
   "id": "19e9ced0",
   "metadata": {},
   "outputs": [
    {
     "name": "stdout",
     "output_type": "stream",
     "text": [
      "[[(0, 1), (1, 1), (2, 1)],\n",
      " [(0, 1), (3, 1), (4, 1), (5, 1), (6, 1), (7, 1)],\n",
      " [(2, 1), (5, 1), (7, 1), (8, 1)],\n",
      " [(1, 1), (5, 2), (8, 1)],\n",
      " [(3, 1), (6, 1), (7, 1)],\n",
      " [(9, 1)],\n",
      " [(9, 1), (10, 1)],\n",
      " [(9, 1), (10, 1), (11, 1)],\n",
      " [(4, 1), (10, 1), (11, 1)]]\n"
     ]
    }
   ],
   "source": [
    "corpus = [dictionary.doc2bow(text) for text in texts]\n",
    "# 保存上述数据\n",
    "corpora.MmCorpus.serialize('./tmp/deerwester.mm', corpus)\n",
    "pprint.pprint(corpus)"
   ]
  },
  {
   "cell_type": "code",
   "execution_count": 27,
   "id": "db0625ab",
   "metadata": {},
   "outputs": [],
   "source": [
    "from smart_open import open\n",
    "\n",
    "class MyCorpus:\n",
    "    def __iter__(self):\n",
    "        # 这里也可以通过http协议来访问网络上的文件\n",
    "        for line in open('./tmp/mycorpus.txt'):\n",
    "            # 通过迭代返回内容\n",
    "            yield dictionary.doc2bow(line.lower().split())"
   ]
  },
  {
   "cell_type": "code",
   "execution_count": 28,
   "id": "8d5ccf50",
   "metadata": {},
   "outputs": [
    {
     "name": "stdout",
     "output_type": "stream",
     "text": [
      "<__main__.MyCorpus object at 0x00000182CB070FD0>\n",
      "[(0, 1), (1, 1), (2, 1)]\n",
      "[(0, 1), (3, 1), (4, 1), (5, 1), (6, 1), (7, 1)]\n",
      "[(2, 1), (5, 1), (7, 1), (8, 1)]\n",
      "[(1, 1), (5, 2), (8, 1)]\n",
      "[(3, 1), (6, 1), (7, 1)]\n",
      "[(9, 1)]\n",
      "[(9, 1), (10, 1)]\n",
      "[(9, 1), (10, 1), (11, 1)]\n",
      "[(4, 1), (10, 1), (11, 1)]\n"
     ]
    }
   ],
   "source": [
    "corpus_memory_friendly = MyCorpus()\n",
    "print(corpus_memory_friendly)\n",
    "\n",
    "# corpus现在是个对象 \n",
    "# 不能直接打印输出 要通过循环的方式遍历\n",
    "for vector in corpus_memory_friendly:\n",
    "    print(vector)"
   ]
  },
  {
   "cell_type": "markdown",
   "id": "cf9e14fe",
   "metadata": {},
   "source": [
    "虽然输出结果与上述相同，但是通过这样的方式，哦对内存是更加友好的。"
   ]
  },
  {
   "cell_type": "code",
   "execution_count": 40,
   "id": "04647d1d",
   "metadata": {},
   "outputs": [
    {
     "name": "stdout",
     "output_type": "stream",
     "text": [
      "Dictionary<12 unique tokens: ['computer', 'human', 'interface', 'response', 'survey']...>\n"
     ]
    }
   ],
   "source": [
    "# 将corpus中的所有单词构成一个字典\n",
    "dictionary = corpora.Dictionary(line.lower().split() for line in open('./tmp/mycorpus.txt'))\n",
    "# 获得常用符号的id\n",
    "stop_ids = [\n",
    "    dictionary.token2id[stopword]\n",
    "    for stopword in stoplist\n",
    "    if stopword in dictionary.token2id\n",
    "]\n",
    "# 获得只出现一次的id\n",
    "once_ids = [tokenid for tokenid, docfreq in dictionary.dfs.items()\n",
    "          if docfreq == 1]\n",
    "\n",
    "# 将上述id进行过滤\n",
    "dictionary.filter_tokens(stop_ids + once_ids)\n",
    "dictionary.compactify()\n",
    "print(dictionary)\n"
   ]
  },
  {
   "cell_type": "code",
   "execution_count": 44,
   "id": "956671d0",
   "metadata": {},
   "outputs": [
    {
     "name": "stdout",
     "output_type": "stream",
     "text": [
      "MmCorpus(2 documents, 2 features, 1 non-zero entries)\n",
      "[[(1, 0.5)], []]\n"
     ]
    }
   ],
   "source": [
    "corpus = [[(1, 0.5)], []]\n",
    "# 保存一个Matrix Market文件\n",
    "corpora.MmCorpus.serialize('./tmp/corpus.mm', corpus)\n",
    "\n",
    "corpus = corpora.MmCorpus('./tmp/corpus.mm')\n",
    "print(corpus)\n",
    "print(list(corpus))"
   ]
  },
  {
   "cell_type": "code",
   "execution_count": 54,
   "id": "a1c41c8b",
   "metadata": {},
   "outputs": [
    {
     "name": "stdout",
     "output_type": "stream",
     "text": [
      "[[7 0]\n",
      " [6 3]\n",
      " [2 9]\n",
      " [1 8]\n",
      " [1 7]]\n",
      "[(0, 7.0), (1, 6.0), (2, 2.0), (3, 1.0), (4, 1.0)]\n",
      "[(1, 3.0), (2, 9.0), (3, 8.0), (4, 7.0)]\n"
     ]
    }
   ],
   "source": [
    "import gensim\n",
    "import numpy as np\n",
    "numpy_matrix = np.random.randint(10, size=[5, 2])\n",
    "corpus = gensim.matutils.Dense2Corpus(numpy_matrix)\n",
    "print(numpy_matrix)\n",
    "\n",
    "for doc in corpus:\n",
    "    print(doc)"
   ]
  },
  {
   "cell_type": "markdown",
   "id": "3cc795fd",
   "metadata": {},
   "source": [
    "## Topics and Transformations"
   ]
  },
  {
   "cell_type": "code",
   "execution_count": 63,
   "id": "6dd73791",
   "metadata": {},
   "outputs": [],
   "source": [
    "import pprint\n",
    "from collections import defaultdict\n",
    "from gensim import corpora\n",
    "\n",
    "# 导入9句话\n",
    "documents = [\n",
    "    \"Human machine interface for lab abc computer applications\",\n",
    "    \"A survey of user opinion of computer system response time\",\n",
    "    \"The EPS user interface management system\",\n",
    "    \"System and human system engineering testing of EPS\",\n",
    "    \"Relation of user perceived response time to error measurement\",\n",
    "    \"The generation of random binary unordered trees\",\n",
    "    \"The intersection graph of paths in trees\",\n",
    "    \"Graph minors IV Widths of trees and well quasi ordering\",\n",
    "    \"Graph minors A survey\",\n",
    "]\n",
    "\n",
    "stoplist = set('for a of the and to in'.split(' '))\n",
    "texts = [\n",
    "    [word for word in document.lower().split() if word not in stoplist ] \n",
    "    for document in documents\n",
    "]\n",
    "\n",
    "frequency = defaultdict(int)\n",
    "for text in texts:\n",
    "    for word in text:\n",
    "        # 使用方法相当于字典\n",
    "        frequency[word] += 1\n",
    "        \n",
    "# 去除只出现一token次的单词\n",
    "texts = [[token for token in text if frequency[token]>1 ] for text in texts]\n",
    "\n",
    "dictionary = corpora.Dictionary(texts)\n",
    "corpus = [dictionary.doc2bow(text) for text in texts]\n",
    "\n",
    "from gensim import models\n",
    "\n",
    "tfidf = models.TfidfModel(corpus)"
   ]
  },
  {
   "cell_type": "code",
   "execution_count": 64,
   "id": "cc52ee34",
   "metadata": {},
   "outputs": [
    {
     "name": "stdout",
     "output_type": "stream",
     "text": [
      "[(0, 0.7071067811865476), (1, 0.7071067811865476)]\n"
     ]
    }
   ],
   "source": [
    "doc_bow = [(0, 1), (1, 1)]\n",
    "print(tfidf[doc_bow])"
   ]
  },
  {
   "cell_type": "markdown",
   "id": "64434473",
   "metadata": {},
   "source": [
    "`tfidf`可以用于将任何矩阵从旧的表示方法（单词的出现次数-整形）转换为新的表示方法（tfidf权重-浮点型）"
   ]
  },
  {
   "cell_type": "code",
   "execution_count": 66,
   "id": "b49c3a7e",
   "metadata": {},
   "outputs": [
    {
     "name": "stdout",
     "output_type": "stream",
     "text": [
      "[(0, 0.5773502691896257), (1, 0.5773502691896257), (2, 0.5773502691896257)]\n",
      "[(0, 0.44424552527467476), (3, 0.44424552527467476), (4, 0.44424552527467476), (5, 0.3244870206138555), (6, 0.44424552527467476), (7, 0.3244870206138555)]\n",
      "[(2, 0.5710059809418182), (5, 0.4170757362022777), (7, 0.4170757362022777), (8, 0.5710059809418182)]\n",
      "[(1, 0.49182558987264147), (5, 0.7184811607083769), (8, 0.49182558987264147)]\n",
      "[(3, 0.6282580468670046), (6, 0.6282580468670046), (7, 0.45889394536615247)]\n",
      "[(9, 1.0)]\n",
      "[(9, 0.7071067811865475), (10, 0.7071067811865475)]\n",
      "[(9, 0.5080429008916749), (10, 0.5080429008916749), (11, 0.695546419520037)]\n",
      "[(4, 0.6282580468670046), (10, 0.45889394536615247), (11, 0.6282580468670046)]\n"
     ]
    }
   ],
   "source": [
    "corpus_tfidf = tfidf[corpus]\n",
    "for doc in corpus_tfidf:\n",
    "    print(doc)"
   ]
  },
  {
   "cell_type": "code",
   "execution_count": 67,
   "id": "88d4cc52",
   "metadata": {},
   "outputs": [],
   "source": [
    "lsi_model = models.LsiModel(corpus_tfidf, id2word=dictionary, num_topics=2)\n",
    "corpus_lsi = lsi_model[corpus_tfidf]"
   ]
  },
  {
   "cell_type": "markdown",
   "id": "04218d35",
   "metadata": {},
   "source": [
    "通过Laten Semantic Indexing将Tf-Idf转换成一个latent 2-D空间。"
   ]
  },
  {
   "cell_type": "code",
   "execution_count": 68,
   "id": "d5db7699",
   "metadata": {},
   "outputs": [
    {
     "data": {
      "text/plain": [
       "[(0,\n",
       "  '0.703*\"trees\" + 0.538*\"graph\" + 0.402*\"minors\" + 0.187*\"survey\" + 0.061*\"system\" + 0.060*\"response\" + 0.060*\"time\" + 0.058*\"user\" + 0.049*\"computer\" + 0.035*\"interface\"'),\n",
       " (1,\n",
       "  '-0.460*\"system\" + -0.373*\"user\" + -0.332*\"eps\" + -0.328*\"interface\" + -0.320*\"response\" + -0.320*\"time\" + -0.293*\"computer\" + -0.280*\"human\" + -0.171*\"survey\" + 0.161*\"trees\"')]"
      ]
     },
     "execution_count": 68,
     "metadata": {},
     "output_type": "execute_result"
    }
   ],
   "source": [
    "lsi_model.print_topics(2)"
   ]
  },
  {
   "cell_type": "code",
   "execution_count": null,
   "id": "82119439",
   "metadata": {},
   "outputs": [],
   "source": []
  }
 ],
 "metadata": {
  "kernelspec": {
   "display_name": "Python 3 (ipykernel)",
   "language": "python",
   "name": "python3"
  },
  "language_info": {
   "codemirror_mode": {
    "name": "ipython",
    "version": 3
   },
   "file_extension": ".py",
   "mimetype": "text/x-python",
   "name": "python",
   "nbconvert_exporter": "python",
   "pygments_lexer": "ipython3",
   "version": "3.9.2"
  }
 },
 "nbformat": 4,
 "nbformat_minor": 5
}
